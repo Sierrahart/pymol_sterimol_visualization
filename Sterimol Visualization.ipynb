{
 "cells": [
  {
   "cell_type": "markdown",
   "id": "4a71a4eb",
   "metadata": {},
   "source": [
    "# 0. Package Imports and Functions"
   ]
  },
  {
   "cell_type": "code",
   "execution_count": 11,
   "id": "9e431192",
   "metadata": {},
   "outputs": [],
   "source": [
    "import os\n",
    "import sys\n",
    "import pandas as pd\n",
    "import json\n",
    "import math\n",
    "import numpy as np\n",
    "import seaborn as sns\n",
    "import matplotlib.pyplot as plt\n",
    "from collections import deque\n",
    "\n",
    "from morfeus import Sterimol, read_xyz\n",
    "from morfeus.plotting import get_drawing_arrow\n",
    "import pyvista as pv\n",
    "# pv.set_jupyter_backend('ipyvtklink')\n",
    "from pyvistaqt import BackgroundPlotter\n",
    "\n",
    "from matplotlib.colors import hex2color\n",
    "from morfeus.data import jmol_colors\n",
    "\n",
    "import sterimol_functions as sf\n",
    "\n",
    "from datetime import date\n",
    "run_date = date.today().strftime(\"%b-%d-%Y\")"
   ]
  },
  {
   "cell_type": "markdown",
   "id": "cbaada4e",
   "metadata": {},
   "source": [
    "# 1. Load File"
   ]
  },
  {
   "cell_type": "code",
   "execution_count": 12,
   "id": "6c86b2b4",
   "metadata": {},
   "outputs": [],
   "source": [
    "file_name = 'pp000002.xyz'\n",
    "file_directory = './xyz_files/'"
   ]
  },
  {
   "cell_type": "markdown",
   "id": "8bc8c5ac",
   "metadata": {},
   "source": [
    "# 2. Calculate Sterimol Values"
   ]
  },
  {
   "cell_type": "code",
   "execution_count": 15,
   "id": "729331f2",
   "metadata": {},
   "outputs": [
    {
     "name": "stdout",
     "output_type": "stream",
     "text": [
      "Sterimol L: 6.732\n",
      "Sterimol B1: 3.804\n",
      "Sterimol B5: 6.717\n"
     ]
    }
   ],
   "source": [
    "atom_1 = 2  # 1-indexed\n",
    "atom_2 = 63  # 1-indexed\n",
    "\n",
    "elements, coordinates = read_xyz(os.path.join(file_directory, file_name))\n",
    "sterimol = Sterimol(elements, coordinates, atom_1, atom_2)\n",
    "print(f'Sterimol L: {sterimol.L_value:.3f}')\n",
    "print(f'Sterimol B1: {sterimol.B_1_value:.3f}')\n",
    "print(f'Sterimol B5: {sterimol.B_5_value:.3f}')"
   ]
  },
  {
   "cell_type": "markdown",
   "id": "1c4896de",
   "metadata": {},
   "source": [
    "# 3. Optional: Visualize in 3D (opens in pyvista)"
   ]
  },
  {
   "cell_type": "code",
   "execution_count": 4,
   "id": "b22b88d0",
   "metadata": {},
   "outputs": [
    {
     "data": {
      "text/plain": [
       "<pyvistaqt.plotting.BackgroundPlotter at 0x7f8f79f29670>"
      ]
     },
     "execution_count": 4,
     "metadata": {},
     "output_type": "execute_result"
    }
   ],
   "source": [
    "sf.plot_sterimol_3d(sterimol)"
   ]
  },
  {
   "cell_type": "markdown",
   "id": "996b85de",
   "metadata": {},
   "source": [
    "# 4. Determine Vector Coordinates"
   ]
  },
  {
   "cell_type": "markdown",
   "id": "4f7e9e23",
   "metadata": {},
   "source": [
    "Note: Sterimol translates and rotates the molecule coordinates, which is used by PyVista. Visualization in other programs requires rotation of the sterimol vectors so they are relative to the original coordinates."
   ]
  },
  {
   "cell_type": "code",
   "execution_count": 9,
   "id": "1f129449",
   "metadata": {},
   "outputs": [
    {
     "name": "stdout",
     "output_type": "stream",
     "text": [
      "Sterimol L:\n",
      " draw_arrow([-1.609, 0.237, 0.003], [2.777, -4.313, -0.389], color=(0.376, 0.443, 0.639), name=\"L\")\n",
      "Sterimol B1:\n",
      " draw_arrow([-0.064, -1.366, -0.135], [-2.16, -3.582, 2.137], color=(0.376, 0.443, 0.639), name=\"B1\")\n",
      "Sterimol B5:\n",
      " draw_arrow([-0.064, -1.366, -0.135], [3.574, 2.495, -4.255], color=(0.376, 0.443, 0.639), name=\"B5\")\n"
     ]
    }
   ],
   "source": [
    "# Indices you used for Sterimol\n",
    "idx_dummy = atom_1-1  # Convert to 0-based index\n",
    "idx_attached = atom_2-1  # Convert to 0-based index\n",
    "idx_sub = 0  # <-- set this to a third atom index, not colinear with the first two\n",
    "\n",
    "color = (96/255, 113/255, 163/255)  # RGB color (divide by 255 for PyMOL compatibility)\n",
    "color = tuple(round(c, 3) for c in color)\n",
    "\n",
    "\"\"\" User input not required below this line. \"\"\"\n",
    "\n",
    "# Get coordinates in original frame\n",
    "A_orig = coordinates[idx_dummy]\n",
    "B_orig = coordinates[idx_attached]\n",
    "C_orig = coordinates[idx_sub]\n",
    "\n",
    "# Get coordinates in Sterimol frame\n",
    "A_rot = sterimol._dummy_atom.coordinates\n",
    "B_rot = sterimol._attached_atom.coordinates\n",
    "C_rot = sterimol._atoms[idx_sub].coordinates\n",
    "\n",
    "axes_orig = sf.build_axes(A_orig, B_orig, C_orig)\n",
    "axes_rot = sf.build_axes(A_rot, B_rot, C_rot)\n",
    "\n",
    "# Rotation matrix from Sterimol frame to original frame\n",
    "R = axes_orig @ np.linalg.inv(axes_rot)\n",
    "\n",
    "# Transform Sterimol vectors back to original frame\n",
    "L_vec_orig = R @ sterimol.L\n",
    "B1_vec_orig = R @ sterimol.B_1\n",
    "B5_vec_orig = R @ sterimol.B_5\n",
    "\n",
    "# Arrow start and end points in original frame\n",
    "start_L = np.round(A_orig, 3).tolist()\n",
    "end_L   = np.round(A_orig + L_vec_orig, 3).tolist()\n",
    "\n",
    "start_B = np.round(B_orig, 3).tolist()\n",
    "end_B1  = np.round(B_orig + B1_vec_orig, 3).tolist()\n",
    "end_B5  = np.round(B_orig + B5_vec_orig, 3).tolist()\n",
    "\n",
    "print(\"Sterimol L:\\n\", f'draw_arrow({np.round(start_L,3).tolist()}, {np.round(end_L,3).tolist()}, color={color}, name=\"L\")')\n",
    "print(\"Sterimol B1:\\n\", f'draw_arrow({np.round(start_B,3).tolist()}, {np.round(end_B1,3).tolist()}, color={color}, name=\"B1\")')\n",
    "print(\"Sterimol B5:\\n\", f'draw_arrow({np.round(start_B,3).tolist()}, {np.round(end_B5,3).tolist()}, color={color}, name=\"B5\")')"
   ]
  },
  {
   "cell_type": "markdown",
   "id": "946e6d76",
   "metadata": {},
   "source": [
    "# 4. Scale Coordinates for PyMOL Visualization"
   ]
  },
  {
   "cell_type": "markdown",
   "id": "653a22e6",
   "metadata": {},
   "source": [
    "Note: this is NOT the correct sterimol length (van der waals radii is being ignored), this is ONLY to plot a pretty line matching the size of atoms used in PyMOL. Some adjustment of length may be required."
   ]
  },
  {
   "cell_type": "code",
   "execution_count": 8,
   "id": "fcce889d",
   "metadata": {},
   "outputs": [
    {
     "name": "stdout",
     "output_type": "stream",
     "text": [
      "Sterimol L:\n",
      " draw_arrow([-1.609, 0.237, 0.003], [1.877, -3.379, -0.309], color=(0.376, 0.443, 0.639), name=\"L\")\n",
      "Sterimol B1:\n",
      " draw_arrow([-0.064, -1.366, -0.135], [-1.609, -3.0, 1.54], color=(0.376, 0.443, 0.639), name=\"B1\")\n",
      "Sterimol B5:\n",
      " draw_arrow([-0.064, -1.366, -0.135], [3.141, 2.035, -3.764], color=(0.376, 0.443, 0.639), name=\"B5\")\n"
     ]
    }
   ],
   "source": [
    "color = (96/255, 113/255, 163/255)  # RGB color (divide by 255 for PyMOL compatibility)\n",
    "color = tuple(round(c, 3) for c in color)\n",
    "\n",
    "start_L, end_L = sf.shorten_vector(A_orig, L_vec_orig, 1.3)  # Shorten by 1.3 Å\n",
    "start_B1, end_B1 = sf.shorten_vector(B_orig, B1_vec_orig, 1.0)  # Shorten by 1.0 Å\n",
    "start_B5, end_B5 = sf.shorten_vector(B_orig, B5_vec_orig, 0.8)  # Shorten by 0.8 Å\n",
    "\n",
    "print(\"Sterimol L:\\n\", f'draw_arrow({np.round(start_L,3).tolist()}, {np.round(end_L,3).tolist()}, color={color}, name=\"L\")')\n",
    "print(\"Sterimol B1:\\n\", f'draw_arrow({np.round(start_B1,3).tolist()}, {np.round(end_B1,3).tolist()}, color={color}, name=\"B1\")')\n",
    "print(\"Sterimol B5:\\n\", f'draw_arrow({np.round(start_B5,3).tolist()}, {np.round(end_B5,3).tolist()}, color={color}, name=\"B5\")')"
   ]
  },
  {
   "cell_type": "code",
   "execution_count": null,
   "id": "3a4132e7",
   "metadata": {},
   "outputs": [],
   "source": []
  }
 ],
 "metadata": {
  "kernelspec": {
   "display_name": "navarro",
   "language": "python",
   "name": "python3"
  },
  "language_info": {
   "codemirror_mode": {
    "name": "ipython",
    "version": 3
   },
   "file_extension": ".py",
   "mimetype": "text/x-python",
   "name": "python",
   "nbconvert_exporter": "python",
   "pygments_lexer": "ipython3",
   "version": "3.9.13"
  }
 },
 "nbformat": 4,
 "nbformat_minor": 5
}
